{
 "cells": [
  {
   "cell_type": "code",
   "execution_count": null,
   "metadata": {
    "id": "vU2Bg_qv7ODk"
   },
   "outputs": [],
   "source": [
    "!git clone https://github.com/thewh1teagle/optispeech -b he-v1\n",
    "%cd optispeech"
   ]
  },
  {
   "cell_type": "code",
   "execution_count": null,
   "metadata": {
    "id": "Aco6nZSM7Xjy"
   },
   "outputs": [],
   "source": [
    "%env RYE_INSTALL_OPTION=--yes\n",
    "!curl -sSf https://rye.astral.sh/get | bash\n",
    "\n",
    "!bash -c \"$(wget -O - https://apt.llvm.org/llvm.sh)\"\n",
    "!sudo apt install cmake nvtop htop p7zip-full aria2 -y\n",
    "!sudo ln -s /usr/bin/clang-18 /usr/bin/clang\n",
    "!sudo ln -s /usr/bin/clang++-18 /usr/bin/clang++"
   ]
  },
  {
   "cell_type": "code",
   "execution_count": null,
   "metadata": {
    "id": "1kKyNess7mRn"
   },
   "outputs": [],
   "source": [
    "!/root/.rye/shims/rye sync\n",
    "!/root/.rye/shims/rye add torchaudio==2.3.1"
   ]
  },
  {
   "cell_type": "code",
   "execution_count": null,
   "metadata": {
    "id": "uZz4i5LZ8b54"
   },
   "outputs": [],
   "source": [
    "!wget https://github.com/thewh1teagle/optispeech/releases/download/v0.1.0/espeak-ng-data.7z\n",
    "!7z x espeak-ng-data.7z\n",
    "import os\n",
    "os.environ['ESPEAK_DATA_PATH'] = os.path.join(os.getcwd(), 'espeak-ng-data')"
   ]
  },
  {
   "cell_type": "code",
   "execution_count": null,
   "metadata": {
    "id": "3RynbYHT93RL"
   },
   "outputs": [],
   "source": [
    "!wget \"https://openslr.elda.org/resources/134/saspeech_gold_standard_v1.0.tar.gz\"\n",
    "!tar xf saspeech_gold_standard_v1.0.tar.gz\n",
    "\n",
    "# Remove invalid wav file from dataset\n",
    "!sed -i '/^gold_000_line_104/d' saspeech_gold_standard/metadata.csv"
   ]
  },
  {
   "cell_type": "code",
   "execution_count": null,
   "metadata": {},
   "outputs": [],
   "source": [
    "# Split 10% for validation\n",
    "!python3 scripts/split_saspeech.py saspeech_gold_standard saspeech 10"
   ]
  },
  {
   "cell_type": "code",
   "execution_count": 37,
   "metadata": {
    "id": "-7628SCA_4bo"
   },
   "outputs": [],
   "source": [
    "# Preprocess\n",
    "# Generate data/saspeech with json files and npz files\n",
    "!python3 -m optispeech.tools.preprocess_dataset saspeech-he ./saspeech data/saspeech"
   ]
  },
  {
   "cell_type": "code",
   "execution_count": null,
   "metadata": {},
   "outputs": [],
   "source": [
    "# Edit statistics yaml file in saspeech-he.yaml\n",
    "!python -m optispeech.tools.generate_data_statistics saspeech-he\n",
    "\n",
    "# Ready to train"
   ]
  }
 ],
 "metadata": {
  "accelerator": "GPU",
  "colab": {
   "gpuType": "T4",
   "provenance": []
  },
  "kernelspec": {
   "display_name": "Python 3 (ipykernel)",
   "language": "python",
   "name": "python3"
  },
  "language_info": {
   "codemirror_mode": {
    "name": "ipython",
    "version": 3
   },
   "file_extension": ".py",
   "mimetype": "text/x-python",
   "name": "python",
   "nbconvert_exporter": "python",
   "pygments_lexer": "ipython3",
   "version": "3.10.12"
  }
 },
 "nbformat": 4,
 "nbformat_minor": 4
}

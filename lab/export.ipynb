{
 "cells": [
  {
   "cell_type": "code",
   "execution_count": null,
   "metadata": {},
   "outputs": [],
   "source": [
    "%cd /optispeech\n",
    "!find . -name \"*.ckpt\""
   ]
  },
  {
   "cell_type": "code",
   "execution_count": null,
   "metadata": {},
   "outputs": [],
   "source": [
    "# Export onnx model\n",
    "!.venv/bin/python3 -m optispeech.onnx.export \"./data/saspeech/logs/train/saspeech_he/runs/2024-09-12_22-01-07/checkpoints/checkpoint_epoch=484_step=257384.ckpt\" last.onnx"
   ]
  }
 ],
 "metadata": {
  "language_info": {
   "name": "python"
  }
 },
 "nbformat": 4,
 "nbformat_minor": 2
}

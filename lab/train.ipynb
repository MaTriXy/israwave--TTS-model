{
 "cells": [
  {
   "cell_type": "code",
   "execution_count": null,
   "metadata": {
    "id": "vU2Bg_qv7ODk"
   },
   "outputs": [],
   "source": [
    "!git clone https://github.com/thewh1teagle/optispeech -b he-v1\n",
    "%cd optispeech"
   ]
  },
  {
   "cell_type": "code",
   "execution_count": null,
   "metadata": {
    "id": "Aco6nZSM7Xjy"
   },
   "outputs": [],
   "source": [
    "%env RYE_INSTALL_OPTION=--yes\n",
    "!curl -sSf https://rye.astral.sh/get | bash\n",
    "\n",
    "!bash -c \"$(wget -O - https://apt.llvm.org/llvm.sh)\"\n",
    "!sudo apt install cmake nvtop htop p7zip-full aria2 -y\n",
    "!sudo ln -s /usr/bin/clang-18 /usr/bin/clang\n",
    "!sudo ln -s /usr/bin/clang++-18 /usr/bin/clang++"
   ]
  },
  {
   "cell_type": "code",
   "execution_count": null,
   "metadata": {
    "id": "1kKyNess7mRn"
   },
   "outputs": [],
   "source": [
    "!/root/.rye/shims/rye sync\n",
    "!/root/.rye/shims/rye add torchaudio==2.3.1"
   ]
  },
  {
   "cell_type": "code",
   "execution_count": null,
   "metadata": {
    "id": "uZz4i5LZ8b54"
   },
   "outputs": [],
   "source": [
    "!wget https://github.com/thewh1teagle/optispeech/releases/download/v0.1.0/espeak-ng-data.7z\n",
    "!7z x espeak-ng-data.7z\n",
    "import os\n",
    "os.environ['ESPEAK_DATA_PATH'] = os.path.join(os.getcwd(), 'espeak-ng-data')"
   ]
  },
  {
   "cell_type": "code",
   "execution_count": null,
   "metadata": {
    "id": "3RynbYHT93RL"
   },
   "outputs": [],
   "source": [
    "!aria2c -x16 -s16 https://github.com/thewh1teagle/optispeech/releases/download/v0.1.0/last.ckpt.7z\n",
    "!aria2c -x16 -s16 https://github.com/thewh1teagle/optispeech/releases/download/v0.1.0/saspeech-v3.7z\n",
    "!7z x saspeech-v3.7z\n",
    "!7z x last.ckpt.7z"
   ]
  },
  {
   "cell_type": "code",
   "execution_count": 37,
   "metadata": {
    "id": "-7628SCA_4bo"
   },
   "outputs": [],
   "source": [
    "!sed -i \"s|/root/home/optispeech/|$(pwd)/|g\" ./data/saspeech/val.txt ./data/saspeech/train.txt"
   ]
  },
  {
   "cell_type": "code",
   "execution_count": null,
   "metadata": {
    "colab": {
     "base_uri": "https://localhost:8080/"
    },
    "id": "BHjemE1Y73er",
    "outputId": "6182e5fd-d443-4c2e-93e0-01bd402c609c"
   },
   "outputs": [],
   "source": [
    "!.venv/bin/python -m optispeech.train \\\n",
    "    experiment=\"saspeech-he\" \\\n",
    "    model.train_args.evaluate_utmos=false \\\n",
    "    data.batch_size=8 \\\n",
    "    data.num_workers=2 \\\n",
    "    data.train_filelist_path=\"data/saspeech/train.txt\" \\\n",
    "    data.valid_filelist_path=\"data/saspeech/val.txt\" \\\n",
    "    paths.log_dir=\"data/saspeech/logs\" \\\n",
    "    callbacks.model_checkpoint.every_n_epochs=1  \\\n",
    "    callbacks.model_checkpoint.save_on_train_epoch_end=True \\\n",
    "    ckpt_path=\"last.ckpt\""
   ]
  }
 ],
 "metadata": {
  "accelerator": "GPU",
  "colab": {
   "gpuType": "T4",
   "provenance": []
  },
  "kernelspec": {
   "display_name": "Python 3 (ipykernel)",
   "language": "python",
   "name": "python3"
  },
  "language_info": {
   "codemirror_mode": {
    "name": "ipython",
    "version": 3
   },
   "file_extension": ".py",
   "mimetype": "text/x-python",
   "name": "python",
   "nbconvert_exporter": "python",
   "pygments_lexer": "ipython3",
   "version": "3.10.12"
  }
 },
 "nbformat": 4,
 "nbformat_minor": 4
}
